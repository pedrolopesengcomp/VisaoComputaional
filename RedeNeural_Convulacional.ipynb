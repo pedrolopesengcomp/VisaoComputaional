{
  "nbformat": 4,
  "nbformat_minor": 0,
  "metadata": {
    "colab": {
      "provenance": [],
      "gpuType": "T4",
      "authorship_tag": "ABX9TyNBgtcgMtQYnj9vFnp5hvM4",
      "include_colab_link": true
    },
    "kernelspec": {
      "name": "python3",
      "display_name": "Python 3"
    },
    "language_info": {
      "name": "python"
    },
    "accelerator": "GPU"
  },
  "cells": [
    {
      "cell_type": "markdown",
      "metadata": {
        "id": "view-in-github",
        "colab_type": "text"
      },
      "source": [
        "<a href=\"https://colab.research.google.com/github/pedrolopesengcomp/VisaoComputaional/blob/main/RedeNeural_Convulacional.ipynb\" target=\"_parent\"><img src=\"https://colab.research.google.com/assets/colab-badge.svg\" alt=\"Open In Colab\"/></a>"
      ]
    },
    {
      "cell_type": "code",
      "execution_count": 1,
      "metadata": {
        "colab": {
          "base_uri": "https://localhost:8080/",
          "height": 36
        },
        "id": "XoFm0Ijc3n9K",
        "outputId": "e639a072-5f6a-4b10-abef-f28ecf27f7e5"
      },
      "outputs": [
        {
          "output_type": "execute_result",
          "data": {
            "text/plain": [
              "'2.18.0'"
            ],
            "application/vnd.google.colaboratory.intrinsic+json": {
              "type": "string"
            }
          },
          "metadata": {},
          "execution_count": 1
        }
      ],
      "source": [
        "import matplotlib.pyplot as plt\n",
        "import seaborn as sns\n",
        "import zipfile\n",
        "import numpy as np\n",
        "import cv2\n",
        "from google.colab.patches import cv2_imshow\n",
        "import tensorflow as tf\n",
        "from tensorflow.keras.models import Sequential\n",
        "from tensorflow.keras.layers import Conv2D, MaxPool2D, Flatten, Dense\n",
        "from tensorflow.keras.preprocessing.image import ImageDataGenerator\n",
        "tf.__version__ # !pip install tensorflow==2.6.0"
      ]
    },
    {
      "cell_type": "code",
      "source": [
        "from google.colab import drive\n",
        "drive.mount('/content/drive')"
      ],
      "metadata": {
        "colab": {
          "base_uri": "https://localhost:8080/"
        },
        "id": "2e8zgNP335Vn",
        "outputId": "fd21b8fd-6589-438e-c94f-b237979af888"
      },
      "execution_count": 2,
      "outputs": [
        {
          "output_type": "stream",
          "name": "stdout",
          "text": [
            "Mounted at /content/drive\n"
          ]
        }
      ]
    },
    {
      "cell_type": "code",
      "source": [
        "path = '/content/drive/MyDrive/VisaoComputacionaç/Datasets/homer_bart_2.zip'\n",
        "zip_object = zipfile.ZipFile(file = path, mode = 'r')\n",
        "zip_object.extractall('./')\n",
        "zip_object.close()"
      ],
      "metadata": {
        "id": "m6hBBKT04Hr2"
      },
      "execution_count": 3,
      "outputs": []
    },
    {
      "cell_type": "markdown",
      "source": [
        "#Carregando a base de treinamento"
      ],
      "metadata": {
        "id": "5mgUSnrs7yyz"
      }
    },
    {
      "cell_type": "markdown",
      "source": [
        "O próprio tensorflow tem um módulo de carregamento das bases de treino"
      ],
      "metadata": {
        "id": "gq5nYaxP87fg"
      }
    },
    {
      "cell_type": "code",
      "source": [
        "gerador_treinamento = ImageDataGenerator(rescale=1./255,\n",
        "                                         rotation_range=7,\n",
        "                                         horizontal_flip=True,\n",
        "                                         zoom_range=0.2)\n",
        "\n",
        "# Isso quer dizer que ele vai pegar as imagens e vai manipular elas de várias maneiras,\n",
        "#girando dando zoom e mais pra variar as imagens"
      ],
      "metadata": {
        "id": "gB7Iapuk9Aq3"
      },
      "execution_count": 5,
      "outputs": []
    },
    {
      "cell_type": "code",
      "source": [
        "dataset_treinamento = gerador_treinamento.flow_from_directory('/content/homer_bart_2/training_set',\n",
        "                                                              target_size = (64, 64),\n",
        "                                                              batch_size = 8,\n",
        "                                                              class_mode = 'categorical',\n",
        "                                                              shuffle = True)\n",
        "\n",
        "#Aqui ele redimenciona as imagens para 64x64 e vai colocar as imagens de modo categórico\n",
        "#vai enviar as imagens de forma aleatória"
      ],
      "metadata": {
        "id": "Qglmkte19NbV"
      },
      "execution_count": null,
      "outputs": []
    },
    {
      "cell_type": "markdown",
      "source": [
        "Imagens de teste"
      ],
      "metadata": {
        "id": "q-K3Havn9ilf"
      }
    },
    {
      "cell_type": "code",
      "source": [
        "gerador_teste = ImageDataGenerator(rescale=1./255)\n",
        "dataset_teste = gerador_teste.flow_from_directory('/content/homer_bart_2/test_set',\n",
        "                                                  target_size = (64,64),\n",
        "                                                  batch_size = 1,\n",
        "                                                  class_mode = 'categorical',\n",
        "                                                  shuffle=False)"
      ],
      "metadata": {
        "id": "cxOq4rq79bZt"
      },
      "execution_count": null,
      "outputs": []
    },
    {
      "cell_type": "code",
      "source": [
        "network = Sequential() # A rede neural é uma sequencial\n",
        "network.add(Conv2D(filters=32, kernel_size=(3,3), activation='relu', input_shape=(64,64,3)))\n",
        "#Adiciona a camada de convolução, com 32 matrizes de convolução diferentes\n",
        "network.add(MaxPool2D(pool_size=(2,2)))\n",
        "#Adiciona a camada de pooling\n",
        "\n",
        "network.add(Conv2D(filters=32, kernel_size=(3,3), activation='relu'))\n",
        "#Adiciona a camada de convolução, com 32 matrizes de convolução diferentes\n",
        "network.add(MaxPool2D(pool_size=(2,2)))\n",
        "#Adiciona a camada de pooling\n",
        "\n",
        "network.add(Conv2D(filters=32, kernel_size=(3,3), activation='relu'))\n",
        "#Adiciona a camada de convolução, com 32 matrizes de convolução diferentes\n",
        "network.add(MaxPool2D(pool_size=(2,2)))\n",
        "#Adiciona a camada de pooling\n",
        "\n",
        "network.add(Flatten())\n",
        "#Faz o flatenning\n",
        "\n",
        "network.add(Dense(units = 577, activation='relu'))\n",
        "network.add(Dense(units = 577, activation='relu'))\n",
        "network.add(Dense(units = 2, activation='softmax')) # Cria 3 camadas de rede neural\n",
        "\n",
        "network.summary()"
      ],
      "metadata": {
        "id": "v9jRHYb19k8y"
      },
      "execution_count": null,
      "outputs": []
    },
    {
      "cell_type": "code",
      "source": [
        "network.compile(optimizer='Adam', loss='categorical_crossentropy', metrics=['accuracy'])"
      ],
      "metadata": {
        "id": "LUul2Gd8-EXT"
      },
      "execution_count": null,
      "outputs": []
    },
    {
      "cell_type": "code",
      "source": [
        "historico = network.fit(dataset_treinamento, epochs=50)"
      ],
      "metadata": {
        "id": "SvwlhQ61-E-X"
      },
      "execution_count": null,
      "outputs": []
    }
  ]
}